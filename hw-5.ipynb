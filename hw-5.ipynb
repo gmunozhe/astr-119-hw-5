{
 "cells": [
  {
   "cell_type": "markdown",
   "metadata": {},
   "source": [
    "### Create a notebook to perform Runge-Kutta for multiple coupled variables"
   ]
  },
  {
   "cell_type": "code",
   "execution_count": null,
   "metadata": {
    "scrolled": true
   },
   "outputs": [],
   "source": [
    "%matplotlib inline\n",
    "import matplotlib.pyplot as plt\n",
    "import numpy as np"
   ]
  },
  {
   "cell_type": "markdown",
   "metadata": {},
   "source": [
    "### Define our coupled derivatives to integrate"
   ]
  },
  {
   "cell_type": "code",
   "execution_count": null,
   "metadata": {
    "scrolled": true
   },
   "outputs": [],
   "source": [
    "def dydx(x,y):\n",
    "    #set the derivatives\n",
    "    #our eq is d^2y/dx^2 = -y\n",
    "    #so write\n",
    "    #dydx = z\n",
    "    #dzdx = -y\n",
    "    \n",
    "    #we will set y = y[0]\n",
    "    #we will set z = y[1]\n",
    "    \n",
    "    #declare an array, size 2\n",
    "    y_derivs = np.zeros(2)\n",
    "    \n",
    "    #set dydx = z\n",
    "    y_derivs[0] = y[1]\n",
    "    \n",
    "    #set dzdx = -y\n",
    "    y_derivs[1] = -1*y[0]\n",
    "    \n",
    "    #return an array\n",
    "    return y_derivs"
   ]
  },
  {
   "cell_type": "markdown",
   "metadata": {},
   "source": [
    "### Def. the 4th order RK method"
   ]
  },
  {
   "cell_type": "code",
   "execution_count": null,
   "metadata": {
    "scrolled": true
   },
   "outputs": [],
   "source": [
    "def rk4_mv_core(dydx, xi, yi, nv, h):\n",
    "    \n",
    "    #declare k? arrays\n",
    "    #h = step size\n",
    "    #yi = array\n",
    "    #nv = number of variables\n",
    "\n",
    "    #each new k depends on the previous k's, K4 depends on k3 to k1\n",
    "    #nv in our case is 2, y and z\n",
    "    k1 = np.zeros(nv)\n",
    "    k2 = np.zeros(nv)\n",
    "    k3 = np.zeros(nv)\n",
    "    k4 = np.zeros(nv)\n",
    "    k5 = np.zeros(nv)\n",
    "    k6 = np.zeros(nv)\n",
    "    \n",
    "\n",
    "    y_temp = np.zeros(nv)\n",
    "    \n",
    "    \n",
    "    \n",
    "    #k1 Values\n",
    "    y_derivs = dydx(xi,yi)\n",
    "    k1[:] = h*y_derivs[:]\n",
    "    \n",
    "    #k2 values\n",
    "    y_temp[:] = yi[:] + (0.2*k1[:])\n",
    "    x_temp = xi + (.2*h)\n",
    "    y_derivs = dydx( x_temp , y_temp )\n",
    "    k2[:] = h*y_derivs[:]\n",
    "    \n",
    "    #get k3 values\n",
    "    y_temp[:] =yi[:] + (3/40)*k1[:] + ((9/40)*k2[:])\n",
    "    x_temp = xi + ((3/10)*h)\n",
    "    y_derivs = dydx(x_temp,y_temp)\n",
    "    k3[:] = h*y_derivs[:]\n",
    "    \n",
    "    #get k4 values\n",
    "    y_temp[:] = yi[:] + (3/10)*k1[:] + ((-9/10)*k2[:]) + ((6/5)*k3[:])\n",
    "    x_temp = xi + ((3/5)*h)\n",
    "    y_derivs = dydx( x_temp , y_temp )\n",
    "    k4[:] = h * y_derivs[:]\n",
    "\n",
    "    #get k5 values\n",
    "    y_temp[:] = yi[:] + ((-11/54)*k1[:]) + ((5/2)*k2[:]) + ((-70/27)*k3[:]) + ((35/27)*k4[:])              \n",
    "    x_temp = xi + (h)                \n",
    "    y_derivs = dydx(x_temp, y_temp)         \n",
    "    k5[:] = h * y_derivs[:]\n",
    "    \n",
    "    #get k6 values\n",
    "    y_temp[:] = yi[:] + ((1631/55296)*k1[:]) + ((175/512)*k2[:]) + ((575/13824)*k3[:]) + ((44275/110592)*k4[:]) + ((253/4096)*k5[:])              \n",
    "    x_temp = xi + ((7/8)*h)                              \n",
    "    y_derivs = dydx(x_temp, y_temp)         \n",
    "    k6[:] = h * y_derivs[:]               \n",
    "      \n",
    "\n",
    "    \n",
    "    #advance y by a step h\n",
    "    yipo = yi+ ((37/378)*k1)   + 0*k2 + (250/621)*k3 + ((125/594)*k4) + ((0)*k5) + ((512/1771)*k6)\n",
    "                    \n",
    "    yipo_star = yi + ((2825/27648)*k1) + 0*k2 + ((18575/48384)*k3) + ((13525/55296)*k4) +  ((277/14336)*k5) + ((.25)*k6)               \n",
    "    \n",
    "    Delta = np.fabs(yipo -  yipo_star)\n",
    "                    \n",
    "    return yipo, Delta"
   ]
  },
  {
   "cell_type": "markdown",
   "metadata": {},
   "source": [
    "### Def an adaptive step size driver for RK4\n"
   ]
  },
  {
   "cell_type": "code",
   "execution_count": null,
   "metadata": {
    "scrolled": true
   },
   "outputs": [],
   "source": [
    "def rk4_mv_ad(dydx, x_i, y_i, nv, h, tol):\n",
    "    \n",
    "    #define safety scale\n",
    "    #used to estimate an error, 1 big step, 2 little steps\n",
    "    #if error is bigger than tol, reduce size of step\n",
    "    #if error is smaller than tol, increase size of step, limit in \n",
    "    #increase of step size, half of previous step\n",
    "    SAFETY = 0.9\n",
    "    H_NEW_FAC = 2.0\n",
    "    \n",
    "    #set a maximum number of iterations\n",
    "    imax = 10000\n",
    "    \n",
    "    #set an iteration variable\n",
    "    \n",
    "    i = 0\n",
    "    \n",
    "    \n",
    "    #remember the step\n",
    "    h_step = h\n",
    "    \n",
    "    yipo, Delta = rk4_mv_core(dydx, x_i, y_i, nv, h_step)\n",
    "    \n",
    "    \n",
    "    #adjust step\n",
    "    while(Delta.max()/tol > 1.0):\n",
    "            #our error is too large, decrease the step\n",
    "            h_step *= SAFETY * (Delta.max()/tol)**(-0.25)\n",
    "            \n",
    "            yipo, Delta = rk4_mv_core(dydx, x_i, y_i, nv, h_step)    \n",
    "            #check iteration\n",
    "            \n",
    "            if(i>imax):\n",
    "                print(\"Too many iterations in rk4_mv_ad()\")\n",
    "                raise StopIteration(\"Ending after i = \", i)\n",
    "                \n",
    "            #iterate \n",
    "            i += 1\n",
    "            \n",
    "    #next time, try to take a bigger step\n",
    "    #can only take a step thats 2x as big as current step, due to h_new_fac\n",
    "    h_new = np. fmin(h_step * (Delta.max()/tol)**(-0.9), h_step*H_NEW_FAC)\n",
    "    \n",
    "    #return the answer, a new step, and the step we actually took\n",
    "    return yipo, h_new, h_step\n",
    "                \n",
    "            "
   ]
  },
  {
   "cell_type": "code",
   "execution_count": null,
   "metadata": {
    "scrolled": true
   },
   "outputs": [],
   "source": [
    "def rk4_mv(dydx, a, b, y_a, tol):\n",
    "    #dfdx is the derivative wrt x\n",
    "    #a is the lower bound\n",
    "    #b is the upper bound\n",
    "    #y_a are the boundary conditions\n",
    "    #tol is the tolerane for integrating y\n",
    "    \n",
    "    #define our starting step\n",
    "    xi = a\n",
    "    yi = y_a.copy()\n",
    "    \n",
    "    #an initial step size == make very small\n",
    "    h = 1.0e-4 *(b-a)\n",
    "    \n",
    "    #set a max number of iterations\n",
    "    imax = 10000\n",
    "    \n",
    "    #set an iteration variable\n",
    "    i = 0\n",
    "    \n",
    "    #set the number of coupled odes to the \n",
    "    #size of y_a\n",
    "    nv = len(y_a)\n",
    "    \n",
    "    #set the initial conditions\n",
    "    #single element array with a as that value\n",
    "    x = np.full(1,a)\n",
    "    y = np.full((1,nv), y_a)\n",
    "    \n",
    "    #set a flag, loop until we reach right side\n",
    "    #number of steps unkown\n",
    "    flag = 1\n",
    "    \n",
    "    #loop until we reach the right side\n",
    "    while(flag):\n",
    "        \n",
    "        #calculate y_i+1\n",
    "        yi_new, h_new, h_step = rk4_mv_ad(dydx, xi, yi, nv, h, tol)\n",
    "        \n",
    "        #update the step\n",
    "        h = h_new\n",
    "        \n",
    "        #prevent an overshoot\n",
    "        if(xi+h_step>b):\n",
    "            \n",
    "            #take a smaller step\n",
    "            h = b-xi\n",
    "            \n",
    "            #recalculate y_i+1\n",
    "            yi_new, h_new, h_step = rk4_mv_ad(dydx, xi, yi, nv, h, tol)\n",
    "            \n",
    "            #break\n",
    "            flag = 0\n",
    "        \n",
    "        #update values\n",
    "        xi += h_step\n",
    "        yi[:] = yi_new[:]\n",
    "        \n",
    "        #add the step to the arrays\n",
    "        x =np.append(x, xi)\n",
    "        #give it an array and number it'll append xi, and overwrite x with the new array\n",
    "        \n",
    "        y_new = np.zeros((len(x),nv))\n",
    "        y_new[0:len(x)-1,:] = y\n",
    "            #x-1 because we added an extra element to x, but y and x have to be the same length\n",
    "        y_new[-1,:] = yi[:]\n",
    "        del y\n",
    "        #erases last y matrix\n",
    "        y = y_new\n",
    "        \n",
    "        #prevent too many iterations\n",
    "        if(i>=imax):\n",
    "            print(\"Maximum iterations reached.\")\n",
    "            raise StopIteration(\"Iteration number= \", i)\n",
    "            \n",
    "        #iterate\n",
    "        i += 1\n",
    "        \n",
    "        #output some information\n",
    "        #3 means a field with 3 elements, 3 digits\n",
    "        #d means integer\n",
    "        # \\t means print tab followed by x =\n",
    "        # %9.8 means print out 9 total digits where 8 are on the RHS of decimal\n",
    "        s = \"i = %3d\\tx = %9.8f\\th = %9.8f\\tb=%9.8f\" % (i, xi, h_step, b)\n",
    "        print(s)\n",
    "        \n",
    "        #break if new xi is == b\n",
    "        #ends integration\n",
    "        if(xi == b):\n",
    "            flag = 0\n",
    "    \n",
    "    #return answer\n",
    "    return x,y"
   ]
  },
  {
   "cell_type": "markdown",
   "metadata": {},
   "source": [
    "#### Perform the integration"
   ]
  },
  {
   "cell_type": "code",
   "execution_count": null,
   "metadata": {},
   "outputs": [],
   "source": [
    "a = 0.0\n",
    "b = 2.0 *np.pi\n",
    "\n",
    "y_0 = np.zeros(2)\n",
    "y_0 [0] = 0.0\n",
    "y_0 [1] = 1.0\n",
    "nv = 2\n",
    "\n",
    "tolerance = 1.0e-6\n",
    "\n",
    "#perform the integration\n",
    "x, y = rk4_mv(dydx, a, b, y_0, tolerance)"
   ]
  },
  {
   "cell_type": "markdown",
   "metadata": {},
   "source": [
    "#### Plot the result"
   ]
  },
  {
   "cell_type": "code",
   "execution_count": null,
   "metadata": {
    "scrolled": true
   },
   "outputs": [],
   "source": [
    "plt.plot(x,y[:,0], 'o', label = 'y(x)')\n",
    "plt.plot(x, y[:,1], 'o', label='dydx(x)')\n",
    "xx = np.linspace(0, 2.0*np.pi, 1000)\n",
    "plt.plot(xx, np.sin(xx), label='sin(x)')\n",
    "plt.plot(xx, np.cos(xx), label= 'cos(x)')\n",
    "plt.xlabel('x')\n",
    "plt.ylabel('y, dy/dx')\n",
    "plt.legend(frameon=False)\n"
   ]
  },
  {
   "cell_type": "markdown",
   "metadata": {},
   "source": [
    "#### Plot error"
   ]
  },
  {
   "cell_type": "code",
   "execution_count": null,
   "metadata": {
    "scrolled": true
   },
   "outputs": [],
   "source": [
    "sine = np.sin(x)\n",
    "cosine = np.cos(x)\n",
    "\n",
    "y_error = (y[:,0]-sine)\n",
    "dydx_error = (y[:,1]-cosine)\n",
    "\n",
    "plt.plot(x, y_error, label=\"y(x) Error\")\n",
    "plt.plot(x, dydx_error, label=\"y(x) Error\")\n",
    "plt.legend(frameon=False)"
   ]
  },
  {
   "cell_type": "code",
   "execution_count": null,
   "metadata": {
    "scrolled": true
   },
   "outputs": [],
   "source": []
  }
 ],
 "metadata": {
  "kernelspec": {
   "display_name": "Python 3",
   "language": "python",
   "name": "python3"
  },
  "language_info": {
   "codemirror_mode": {
    "name": "ipython",
    "version": 3
   },
   "file_extension": ".py",
   "mimetype": "text/x-python",
   "name": "python",
   "nbconvert_exporter": "python",
   "pygments_lexer": "ipython3",
   "version": "3.7.0"
  }
 },
 "nbformat": 4,
 "nbformat_minor": 2
}
